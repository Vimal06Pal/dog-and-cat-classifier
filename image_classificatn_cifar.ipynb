{
  "nbformat": 4,
  "nbformat_minor": 0,
  "metadata": {
    "colab": {
      "name": "image_classificatn_cifar",
      "provenance": [],
      "collapsed_sections": [],
      "toc_visible": true,
      "include_colab_link": true
    },
    "kernelspec": {
      "name": "python3",
      "display_name": "Python 3"
    },
    "accelerator": "GPU"
  },
  "cells": [
    {
      "cell_type": "markdown",
      "metadata": {
        "id": "view-in-github",
        "colab_type": "text"
      },
      "source": [
        "<a href=\"https://colab.research.google.com/github/Vimal06Pal/dog-and-cat-classifier/blob/master/image_classificatn_cifar.ipynb\" target=\"_parent\"><img src=\"https://colab.research.google.com/assets/colab-badge.svg\" alt=\"Open In Colab\"/></a>"
      ]
    },
    {
      "cell_type": "markdown",
      "metadata": {
        "colab_type": "text",
        "id": "5fCEDCU_qrC0"
      },
      "source": [
        "<p><img alt=\"Colaboratory logo\" height=\"45px\" src=\"/img/colab_favicon.ico\" align=\"left\" hspace=\"10px\" vspace=\"0px\"></p>\n",
        "\n",
        "<h1>Welcome to Colaboratory!</h1>\n",
        "\n",
        "\n",
        "Colaboratory is a free Jupyter notebook environment that requires no setup and runs entirely in the cloud.\n",
        "\n",
        "With Colaboratory you can write and execute code, save and share your analyses, and access powerful computing resources, all for free from your browser."
      ]
    },
    {
      "cell_type": "markdown",
      "metadata": {
        "id": "472x2KpVx2R7",
        "colab_type": "text"
      },
      "source": [
        "## Importing keras"
      ]
    },
    {
      "cell_type": "code",
      "metadata": {
        "id": "n2EL48h2LaoF",
        "colab_type": "code",
        "outputId": "0958ac0c-2166-4ac4-f40c-61624bc1e21c",
        "colab": {
          "base_uri": "https://localhost:8080/",
          "height": 97
        }
      },
      "source": [
        "import keras"
      ],
      "execution_count": 0,
      "outputs": [
        {
          "output_type": "stream",
          "text": [
            "Using TensorFlow backend.\n"
          ],
          "name": "stderr"
        },
        {
          "output_type": "display_data",
          "data": {
            "text/html": [
              "<p style=\"color: red;\">\n",
              "The default version of TensorFlow in Colab will soon switch to TensorFlow 2.x.<br>\n",
              "We recommend you <a href=\"https://www.tensorflow.org/guide/migrate\" target=\"_blank\">upgrade</a> now \n",
              "or ensure your notebook will continue to use TensorFlow 1.x via the <code>%tensorflow_version 1.x</code> magic:\n",
              "<a href=\"https://colab.research.google.com/notebooks/tensorflow_version.ipynb\" target=\"_blank\">more info</a>.</p>\n"
            ],
            "text/plain": [
              "<IPython.core.display.HTML object>"
            ]
          },
          "metadata": {
            "tags": []
          }
        }
      ]
    },
    {
      "cell_type": "markdown",
      "metadata": {
        "id": "2CZhP3BtzGMP",
        "colab_type": "text"
      },
      "source": [
        "## Import Cifar10 dataset from keras"
      ]
    },
    {
      "cell_type": "code",
      "metadata": {
        "id": "xLFamyFnLjMn",
        "colab_type": "code",
        "colab": {
          "base_uri": "https://localhost:8080/",
          "height": 97
        },
        "outputId": "e4752470-53e1-4e96-9959-5e628d1476a6"
      },
      "source": [
        "from keras.datasets import cifar10"
      ],
      "execution_count": 1,
      "outputs": [
        {
          "output_type": "stream",
          "text": [
            "Using TensorFlow backend.\n"
          ],
          "name": "stderr"
        },
        {
          "output_type": "display_data",
          "data": {
            "text/html": [
              "<p style=\"color: red;\">\n",
              "The default version of TensorFlow in Colab will soon switch to TensorFlow 2.x.<br>\n",
              "We recommend you <a href=\"https://www.tensorflow.org/guide/migrate\" target=\"_blank\">upgrade</a> now \n",
              "or ensure your notebook will continue to use TensorFlow 1.x via the <code>%tensorflow_version 1.x</code> magic:\n",
              "<a href=\"https://colab.research.google.com/notebooks/tensorflow_version.ipynb\" target=\"_blank\">more info</a>.</p>\n"
            ],
            "text/plain": [
              "<IPython.core.display.HTML object>"
            ]
          },
          "metadata": {
            "tags": []
          }
        }
      ]
    },
    {
      "cell_type": "markdown",
      "metadata": {
        "id": "-uCvMLgN0jCF",
        "colab_type": "text"
      },
      "source": [
        "# Loading the data into training and test set"
      ]
    },
    {
      "cell_type": "code",
      "metadata": {
        "id": "BAjrXZzvMC5W",
        "colab_type": "code",
        "outputId": "110c9e05-7102-44d1-c062-9d37e1f32dc6",
        "colab": {
          "base_uri": "https://localhost:8080/",
          "height": 51
        }
      },
      "source": [
        "(x_train,y_train),(x_test,y_test)=cifar10.load_data()"
      ],
      "execution_count": 2,
      "outputs": [
        {
          "output_type": "stream",
          "text": [
            "Downloading data from https://www.cs.toronto.edu/~kriz/cifar-10-python.tar.gz\n",
            "170500096/170498071 [==============================] - 11s 0us/step\n"
          ],
          "name": "stdout"
        }
      ]
    },
    {
      "cell_type": "code",
      "metadata": {
        "id": "D3WFY2lXMcj3",
        "colab_type": "code",
        "outputId": "bdad85fa-969c-4fca-aff4-8119c0e03e23",
        "colab": {
          "base_uri": "https://localhost:8080/",
          "height": 34
        }
      },
      "source": [
        "x_train.shape"
      ],
      "execution_count": 3,
      "outputs": [
        {
          "output_type": "execute_result",
          "data": {
            "text/plain": [
              "(50000, 32, 32, 3)"
            ]
          },
          "metadata": {
            "tags": []
          },
          "execution_count": 3
        }
      ]
    },
    {
      "cell_type": "code",
      "metadata": {
        "id": "2VKIB3b_Mry7",
        "colab_type": "code",
        "colab": {}
      },
      "source": [
        "import matplotlib.pyplot as plt\n",
        "%matplotlib inline "
      ],
      "execution_count": 0,
      "outputs": []
    },
    {
      "cell_type": "code",
      "metadata": {
        "id": "FUDPqlstNGQu",
        "colab_type": "code",
        "outputId": "5e67e759-2a13-44b7-889e-59acfc4536d9",
        "colab": {
          "base_uri": "https://localhost:8080/",
          "height": 283
        }
      },
      "source": [
        "plt.imshow(x_train[0])"
      ],
      "execution_count": 5,
      "outputs": [
        {
          "output_type": "execute_result",
          "data": {
            "text/plain": [
              "<matplotlib.image.AxesImage at 0x7fc7b85d63c8>"
            ]
          },
          "metadata": {
            "tags": []
          },
          "execution_count": 5
        },
        {
          "output_type": "display_data",
          "data": {
            "image/png": "[encoded data removed]",
            "text/plain": [
              "<Figure size 432x288 with 1 Axes>"
            ]
          },
          "metadata": {
            "tags": []
          }
        }
      ]
    },
    {
      "cell_type": "code",
      "metadata": {
        "id": "4_8nlhYENN03",
        "colab_type": "code",
        "outputId": "9e1237cf-31be-46b2-d9ee-75c9f67e3cdb",
        "colab": {
          "base_uri": "https://localhost:8080/",
          "height": 34
        }
      },
      "source": [
        "x_train.max()"
      ],
      "execution_count": 6,
      "outputs": [
        {
          "output_type": "execute_result",
          "data": {
            "text/plain": [
              "255"
            ]
          },
          "metadata": {
            "tags": []
          },
          "execution_count": 6
        }
      ]
    },
    {
      "cell_type": "code",
      "metadata": {
        "id": "oW9uNtNrNTzk",
        "colab_type": "code",
        "colab": {}
      },
      "source": [
        "x_train=x_train/255\n",
        "x_test=x_test/255"
      ],
      "execution_count": 0,
      "outputs": []
    },
    {
      "cell_type": "code",
      "metadata": {
        "id": "bRY9nKZzNfU5",
        "colab_type": "code",
        "colab": {}
      },
      "source": [
        "from keras.utils import to_categorical"
      ],
      "execution_count": 0,
      "outputs": []
    },
    {
      "cell_type": "code",
      "metadata": {
        "id": "e__JUf5nN14Q",
        "colab_type": "code",
        "colab": {}
      },
      "source": [
        "y_cat_train=to_categorical(y_train,10)\n",
        "y_cat_test=to_categorical(y_test,10)"
      ],
      "execution_count": 0,
      "outputs": []
    },
    {
      "cell_type": "markdown",
      "metadata": {
        "id": "u5m7l_Mn2IR1",
        "colab_type": "text"
      },
      "source": [
        "### Building the model"
      ]
    },
    {
      "cell_type": "markdown",
      "metadata": {
        "id": "OdYZIYcl3GNM",
        "colab_type": "text"
      },
      "source": [
        "Importing the Keras libraries and packages"
      ]
    },
    {
      "cell_type": "code",
      "metadata": {
        "id": "m8Ze1sp6OPtr",
        "colab_type": "code",
        "colab": {}
      },
      "source": [
        "from keras.models import Sequential\n",
        "from keras.layers import Dense,Conv2D,MaxPool2D,Flatten"
      ],
      "execution_count": 0,
      "outputs": []
    },
    {
      "cell_type": "code",
      "metadata": {
        "id": "mdHYS-BuPIdZ",
        "colab_type": "code",
        "colab": {}
      },
      "source": [
        "### Initialising the CNN\n",
        "model=Sequential()\n",
        "\n",
        "#Step 1 - Convolution\n",
        "model.add(Conv2D(filters=32,kernel_size=(4,4),input_shape=(32,32,3),activation='relu'))\n",
        "\n",
        "#Step 2 - Pooling\n",
        "model.add(MaxPool2D(pool_size=(2,2)))\n",
        "\n",
        "#Adding a second convolutional layer\n",
        "model.add(Conv2D(filters=32,kernel_size=(4,4),input_shape=(32,32,3),activation='relu'))\n",
        "model.add(MaxPool2D(pool_size=(2,2)))\n",
        "\n",
        "#Step 3 - Flattening\n",
        "model.add(Flatten())\n",
        "\n",
        "#Step 4 - Full connection\n",
        "model.add(Dense(256,activation='relu'))\n",
        "model.add(Dense(10,activation='softmax'))\n",
        "\n",
        "#Compiling the CNN\n",
        "model.compile(loss='categorical_crossentropy',optimizer='rmsprop',metrics=['accuracy'])\n"
      ],
      "execution_count": 0,
      "outputs": []
    },
    {
      "cell_type": "markdown",
      "metadata": {
        "id": "xtmZwqkt3VL6",
        "colab_type": "text"
      },
      "source": [
        "#Summaary of the model\n"
      ]
    },
    {
      "cell_type": "code",
      "metadata": {
        "id": "X_UR1-s8TyrG",
        "colab_type": "code",
        "outputId": "3279d00c-7135-4ce3-b9cb-224fb4074b65",
        "colab": {
          "base_uri": "https://localhost:8080/",
          "height": 391
        }
      },
      "source": [
        "model.summary()"
      ],
      "execution_count": 15,
      "outputs": [
        {
          "output_type": "stream",
          "text": [
            "Model: \"sequential_4\"\n",
            "_________________________________________________________________\n",
            "Layer (type)                 Output Shape              Param #   \n",
            "=================================================================\n",
            "conv2d_7 (Conv2D)            (None, 29, 29, 32)        1568      \n",
            "_________________________________________________________________\n",
            "max_pooling2d_7 (MaxPooling2 (None, 14, 14, 32)        0         \n",
            "_________________________________________________________________\n",
            "conv2d_8 (Conv2D)            (None, 11, 11, 32)        16416     \n",
            "_________________________________________________________________\n",
            "max_pooling2d_8 (MaxPooling2 (None, 5, 5, 32)          0         \n",
            "_________________________________________________________________\n",
            "flatten_4 (Flatten)          (None, 800)               0         \n",
            "_________________________________________________________________\n",
            "dense_7 (Dense)              (None, 256)               205056    \n",
            "_________________________________________________________________\n",
            "dense_8 (Dense)              (None, 10)                2570      \n",
            "=================================================================\n",
            "Total params: 225,610\n",
            "Trainable params: 225,610\n",
            "Non-trainable params: 0\n",
            "_________________________________________________________________\n"
          ],
          "name": "stdout"
        }
      ]
    },
    {
      "cell_type": "markdown",
      "metadata": {
        "id": "fQR_idAW98cM",
        "colab_type": "text"
      },
      "source": [
        "## Fitting the CNN"
      ]
    },
    {
      "cell_type": "code",
      "metadata": {
        "id": "SH8lcsTFUViJ",
        "colab_type": "code",
        "outputId": "681a58a9-0b3e-46a5-d8dc-c7f6b0e397bd",
        "colab": {
          "base_uri": "https://localhost:8080/",
          "height": 1000
        }
      },
      "source": [
        "model.fit(x_train,y_cat_train,verbose=1,epochs=25)"
      ],
      "execution_count": 16,
      "outputs": [
        {
          "output_type": "stream",
          "text": [
            "WARNING:tensorflow:From /usr/local/lib/python3.6/dist-packages/tensorflow_core/python/ops/math_grad.py:1424: where (from tensorflow.python.ops.array_ops) is deprecated and will be removed in a future version.\n",
            "Instructions for updating:\n",
            "Use tf.where in 2.0, which has the same broadcast rule as np.where\n",
            "WARNING:tensorflow:From /usr/local/lib/python3.6/dist-packages/keras/backend/tensorflow_backend.py:1033: The name tf.assign_add is deprecated. Please use tf.compat.v1.assign_add instead.\n",
            "\n",
            "WARNING:tensorflow:From /usr/local/lib/python3.6/dist-packages/keras/backend/tensorflow_backend.py:1020: The name tf.assign is deprecated. Please use tf.compat.v1.assign instead.\n",
            "\n",
            "WARNING:tensorflow:From /usr/local/lib/python3.6/dist-packages/keras/backend/tensorflow_backend.py:3005: The name tf.Session is deprecated. Please use tf.compat.v1.Session instead.\n",
            "\n",
            "Epoch 1/25\n",
            "WARNING:tensorflow:From /usr/local/lib/python3.6/dist-packages/keras/backend/tensorflow_backend.py:190: The name tf.get_default_session is deprecated. Please use tf.compat.v1.get_default_session instead.\n",
            "\n",
            "WARNING:tensorflow:From /usr/local/lib/python3.6/dist-packages/keras/backend/tensorflow_backend.py:197: The name tf.ConfigProto is deprecated. Please use tf.compat.v1.ConfigProto instead.\n",
            "\n",
            "WARNING:tensorflow:From /usr/local/lib/python3.6/dist-packages/keras/backend/tensorflow_backend.py:207: The name tf.global_variables is deprecated. Please use tf.compat.v1.global_variables instead.\n",
            "\n",
            "WARNING:tensorflow:From /usr/local/lib/python3.6/dist-packages/keras/backend/tensorflow_backend.py:216: The name tf.is_variable_initialized is deprecated. Please use tf.compat.v1.is_variable_initialized instead.\n",
            "\n",
            "WARNING:tensorflow:From /usr/local/lib/python3.6/dist-packages/keras/backend/tensorflow_backend.py:223: The name tf.variables_initializer is deprecated. Please use tf.compat.v1.variables_initializer instead.\n",
            "\n",
            "50000/50000 [==============================] - 18s 369us/step - loss: 1.5120 - acc: 0.4605\n",
            "Epoch 2/25\n",
            "50000/50000 [==============================] - 12s 240us/step - loss: 1.1733 - acc: 0.5873\n",
            "Epoch 3/25\n",
            "50000/50000 [==============================] - 12s 247us/step - loss: 1.0218 - acc: 0.6456\n",
            "Epoch 4/25\n",
            "50000/50000 [==============================] - 12s 239us/step - loss: 0.9197 - acc: 0.6852\n",
            "Epoch 5/25\n",
            "50000/50000 [==============================] - 12s 239us/step - loss: 0.8454 - acc: 0.7107\n",
            "Epoch 6/25\n",
            "50000/50000 [==============================] - 12s 239us/step - loss: 0.7891 - acc: 0.7312\n",
            "Epoch 7/25\n",
            "50000/50000 [==============================] - 12s 240us/step - loss: 0.7398 - acc: 0.7490\n",
            "Epoch 8/25\n",
            "50000/50000 [==============================] - 12s 240us/step - loss: 0.7042 - acc: 0.7640\n",
            "Epoch 9/25\n",
            "50000/50000 [==============================] - 12s 241us/step - loss: 0.6712 - acc: 0.7767\n",
            "Epoch 10/25\n",
            "50000/50000 [==============================] - 12s 244us/step - loss: 0.6349 - acc: 0.7849\n",
            "Epoch 11/25\n",
            "50000/50000 [==============================] - 12s 242us/step - loss: 0.6120 - acc: 0.7951\n",
            "Epoch 12/25\n",
            "50000/50000 [==============================] - 12s 239us/step - loss: 0.5896 - acc: 0.8027\n",
            "Epoch 13/25\n",
            "50000/50000 [==============================] - 12s 240us/step - loss: 0.5762 - acc: 0.8079\n",
            "Epoch 14/25\n",
            "50000/50000 [==============================] - 12s 240us/step - loss: 0.5567 - acc: 0.8152\n",
            "Epoch 15/25\n",
            "50000/50000 [==============================] - 12s 241us/step - loss: 0.5386 - acc: 0.8205\n",
            "Epoch 16/25\n",
            "50000/50000 [==============================] - 12s 239us/step - loss: 0.5188 - acc: 0.8274\n",
            "Epoch 17/25\n",
            "50000/50000 [==============================] - 12s 242us/step - loss: 0.5106 - acc: 0.8343\n",
            "Epoch 18/25\n",
            "50000/50000 [==============================] - 12s 240us/step - loss: 0.4959 - acc: 0.8363\n",
            "Epoch 19/25\n",
            "50000/50000 [==============================] - 12s 240us/step - loss: 0.4803 - acc: 0.8432\n",
            "Epoch 20/25\n",
            "50000/50000 [==============================] - 12s 243us/step - loss: 0.4700 - acc: 0.8460\n",
            "Epoch 21/25\n",
            "50000/50000 [==============================] - 12s 240us/step - loss: 0.4664 - acc: 0.8484\n",
            "Epoch 22/25\n",
            "50000/50000 [==============================] - 12s 240us/step - loss: 0.4539 - acc: 0.8542\n",
            "Epoch 23/25\n",
            "50000/50000 [==============================] - 12s 241us/step - loss: 0.4507 - acc: 0.8544\n",
            "Epoch 24/25\n",
            "50000/50000 [==============================] - 12s 241us/step - loss: 0.4461 - acc: 0.8584\n",
            "Epoch 25/25\n",
            "50000/50000 [==============================] - 12s 239us/step - loss: 0.4325 - acc: 0.8611\n"
          ],
          "name": "stdout"
        },
        {
          "output_type": "execute_result",
          "data": {
            "text/plain": [
              "<keras.callbacks.History at 0x7fc7b7783240>"
            ]
          },
          "metadata": {
            "tags": []
          },
          "execution_count": 16
        }
      ]
    },
    {
      "cell_type": "markdown",
      "metadata": {
        "id": "FYzFqPgH_5TE",
        "colab_type": "text"
      },
      "source": [
        "# Evaluation of model on Test set"
      ]
    },
    {
      "cell_type": "code",
      "metadata": {
        "id": "eH_iNEQkU-57",
        "colab_type": "code",
        "outputId": "b62e5799-969b-4643-d8be-5eb17a164bb7",
        "colab": {
          "base_uri": "https://localhost:8080/",
          "height": 34
        }
      },
      "source": [
        "model.metrics_names"
      ],
      "execution_count": 17,
      "outputs": [
        {
          "output_type": "execute_result",
          "data": {
            "text/plain": [
              "['loss', 'acc']"
            ]
          },
          "metadata": {
            "tags": []
          },
          "execution_count": 17
        }
      ]
    },
    {
      "cell_type": "code",
      "metadata": {
        "id": "bcnGfGs7VmiV",
        "colab_type": "code",
        "outputId": "400b2ffd-5933-452b-b61e-13df813a05bf",
        "colab": {
          "base_uri": "https://localhost:8080/",
          "height": 51
        }
      },
      "source": [
        "model.evaluate(x_test,y_cat_test)"
      ],
      "execution_count": 18,
      "outputs": [
        {
          "output_type": "stream",
          "text": [
            "10000/10000 [==============================] - 1s 109us/step\n"
          ],
          "name": "stdout"
        },
        {
          "output_type": "execute_result",
          "data": {
            "text/plain": [
              "[1.779875578403473, 0.6623]"
            ]
          },
          "metadata": {
            "tags": []
          },
          "execution_count": 18
        }
      ]
    },
    {
      "cell_type": "code",
      "metadata": {
        "id": "CJAVBcVbVya8",
        "colab_type": "code",
        "colab": {}
      },
      "source": [
        "from sklearn.metrics import classification_report"
      ],
      "execution_count": 0,
      "outputs": []
    },
    {
      "cell_type": "code",
      "metadata": {
        "id": "tyKKckhDWLdM",
        "colab_type": "code",
        "colab": {}
      },
      "source": [
        "pred=model.predict_classes(x_test)"
      ],
      "execution_count": 0,
      "outputs": []
    },
    {
      "cell_type": "markdown",
      "metadata": {
        "id": "2PFwjBdOAVK4",
        "colab_type": "text"
      },
      "source": [
        "# classification report helps to evaluate the accuracy of each class"
      ]
    },
    {
      "cell_type": "code",
      "metadata": {
        "id": "VuexVITdWWhI",
        "colab_type": "code",
        "outputId": "eb2930bf-ae7a-4d38-86a1-081f105bb966",
        "colab": {
          "base_uri": "https://localhost:8080/",
          "height": 306
        }
      },
      "source": [
        "print(classification_report(y_test,pred))"
      ],
      "execution_count": 21,
      "outputs": [
        {
          "output_type": "stream",
          "text": [
            "              precision    recall  f1-score   support\n",
            "\n",
            "           0       0.75      0.65      0.69      1000\n",
            "           1       0.81      0.77      0.79      1000\n",
            "           2       0.54      0.61      0.57      1000\n",
            "           3       0.47      0.50      0.48      1000\n",
            "           4       0.69      0.52      0.59      1000\n",
            "           5       0.61      0.51      0.55      1000\n",
            "           6       0.78      0.73      0.76      1000\n",
            "           7       0.59      0.82      0.68      1000\n",
            "           8       0.81      0.74      0.77      1000\n",
            "           9       0.68      0.79      0.73      1000\n",
            "\n",
            "    accuracy                           0.66     10000\n",
            "   macro avg       0.67      0.66      0.66     10000\n",
            "weighted avg       0.67      0.66      0.66     10000\n",
            "\n"
          ],
          "name": "stdout"
        }
      ]
    },
    {
      "cell_type": "code",
      "metadata": {
        "id": "4rvhfMvCWozF",
        "colab_type": "code",
        "colab": {}
      },
      "source": [
        ""
      ],
      "execution_count": 0,
      "outputs": []
    }
  ]
}